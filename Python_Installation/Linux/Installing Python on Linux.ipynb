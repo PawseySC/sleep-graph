{
 "cells": [
  {
   "cell_type": "markdown",
   "metadata": {},
   "source": [
    "# Installation instructions for <span>Linux&trade;</span>\n",
    "\n",
    "In order to view the course material properly we need to install some freely available software packages. First we need to install **Anaconda Python**, then we need to install a special environment within Anaconda that contains the right packages needed for the course. You don't need Administrator access to install packages but you do need to be able to open a terminal application."
   ]
  },
  {
   "cell_type": "markdown",
   "metadata": {},
   "source": [
    "## <span>Anaconda&trade;</span> Python\n",
    "\n",
    "Most Linux distributions include some form of Python implementation as part of the system, however the system python is also used in system admin tasks and it is wise not to mess with it. The Anaconda Python distribution, available at [this link](https://www.anaconda.com/products/individual#Downloads), provides an excellent Python distribution that you can install into your home directory. The installer comes as a script that you can run as a normal user from the command line. \n",
    "\n",
    "```bash\n",
    "cd ~/Downloads\n",
    "sh ./Anaconda3*.sh\n",
    "```\n",
    "\n",
    "In order for the following environment scripts to work Anaconda3 must be installed in the directory **${HOME}/anaconda3**. If you are proficient enough to install it elsewhere then feel free to also modify the scripts to suit the new location."
   ]
  },
  {
   "cell_type": "markdown",
   "metadata": {},
   "source": [
    "## Environment scripts\n",
    "\n",
    "Following the Anaconda installation, the next step is to create an Anaconda virtual environment called \"pelagos\" with all the necessary packages to view and run the course material. In the **Python_Installation/Linux** folder that comes with this material is some scripts. Their use is as follows:\n",
    "\n",
    "* **prepare_conda_environment.sh** (creates the pelagos Anaconda virtual environment and installs packages)\n",
    "* **start_lab_environment.sh** (starts Jupyter Lab within the created Anaconda virtual environment)\n",
    "* **start_lab_shell.sh** (starts a shell with the environment and environment variables loaded)\n",
    "* **remove_conda_environment.sh** (removes the pelagos Anaconda virtual environment)\n",
    "\n",
    "You might need to make these scripts executable. You can do this by opening your favourite terminal application and changing directory to the course material. Type **cd**, a space, then put in the directory location. The command should look something like this:\n",
    "\n",
    "```bash\n",
    "cd /home/toby/course_material/Python_Installation/Linux\n",
    "```\n",
    "\n",
    "Then you can run a **chmod** command to make the scripts executable. \n",
    "\n",
    "```bash\n",
    "chmod 755 *.sh\n",
    "```\n",
    "\n",
    "Now you can execute the **prepare_conda_environment.sh** script. You should see something like this\n",
    "\n",
    "```bash\n",
    "./prepare_conda_environment.sh\n",
    "```\n",
    "\n",
    "In order to get the environment working make sure you have executed the **prepare_conda_environment.sh** script. This only needs to be done once to install the environment. Each time you wish to view the course material then use **cd** to change directory to **Python_Installation/Linux** and execute the **start_lab_environment.sh** script in the same way."
   ]
  },
  {
   "cell_type": "markdown",
   "metadata": {},
   "source": [
    "## Successful installation?\n",
    "\n",
    "Success means that when you run **start_lab_environment.sh** a web browser opens to the Jupyterlab interface."
   ]
  },
  {
   "cell_type": "markdown",
   "metadata": {},
   "source": [
    "## Uninstallation\n",
    "\n",
    "You can uninstall the \"pelagos\" Anaconda virtual environment by using the terminal to change directory to **Python_Installation/Linux** and then running **remove_conda_environment.sh**. Note that this will not remove Anaconda entirely. It will only remove the \"pelagos\" Anaconda virtual environment that we made for the course."
   ]
  },
  {
   "cell_type": "markdown",
   "metadata": {},
   "source": [
    "<address>\n",
    "&copy; 2021 Pelagos Consulting and Education<br>\n",
    "email: <a href=\"mailto:info@pelagos-consulting.com\">info@pelagos-consulting.com</a><br>\n",
    "Visit us at: <a href=\"https://www.pelagos-consulting.com\">www.pelagos-consulting.com</a><br>\n",
    "All other trademarks are the property of their respective owners.\n",
    "</address>"
   ]
  }
 ],
 "metadata": {
  "kernelspec": {
   "display_name": "Python 3 (ipykernel)",
   "language": "python",
   "name": "python3"
  },
  "language_info": {
   "codemirror_mode": {
    "name": "ipython",
    "version": 3
   },
   "file_extension": ".py",
   "mimetype": "text/x-python",
   "name": "python",
   "nbconvert_exporter": "python",
   "pygments_lexer": "ipython3",
   "version": "3.9.7"
  }
 },
 "nbformat": 4,
 "nbformat_minor": 4
}
