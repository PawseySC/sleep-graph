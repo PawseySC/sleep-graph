{
 "cells": [
  {
   "cell_type": "markdown",
   "metadata": {},
   "source": [
    "# Installation instructions for <span>Microsoft&trade; Windows&trade;</span>\n",
    "\n",
    "In order to view the course material properly we need to install some freely available software packages. First we need to install **Anaconda Python**, then we need to install a special virtual environment within Anaconda that contains the right packages needed for the course. You don't need Administrator access to install packages but you do need to be able to open a Windows **Command Prompt** or a **Powershell Prompt**."
   ]
  },
  {
   "cell_type": "markdown",
   "metadata": {},
   "source": [
    "## <span>Anaconda&trade;</span> Python\n",
    "\n",
    "We first need a functional Python installation. [Anaconda](https://www.anaconda.com/) provides an excellent Python distribution. This course will be using Anaconda Python version 3, available [here](https://www.anaconda.com/download). It is recommended to install Anaconda for just yourself, in your home profile. Just follow the default suggestions during the installation."
   ]
  },
  {
   "cell_type": "markdown",
   "metadata": {},
   "source": [
    "## Anaconda environment\n",
    "\n",
    "Following the Anaconda installation, the next step is to create an Anaconda virtual environment called \"pelagos\" with all the necessary packages to view and run the course material. In the **Python_Installation/Windows** folder that comes with this course is some scripts. Their use is as follows:\n",
    "\n",
    "* **prepare_conda_environment.bat** (creates the pelagos Anaconda virtual environment and installs packages)\n",
    "* **start_lab_environment.bat** (starts Jupyter Lab within the created Anaconda virtual environment)\n",
    "* **start_lab_shell.bat** (starts a shell with the environment and environment variables loaded)\n",
    "* **remove_conda_environment.bat** (removes the pelagos Anaconda virtual environment)\n",
    "\n",
    "In order to get the course material working just double click on the **prepare_conda_environment.bat** script,  and then double click on the **start_lab_environment.bat** script to start the Jupyter lab environment in a web browser. If running the batch scripts doesn't work you can go to the start menu and search for an application called **Anaconda Powershell Prompt**. Then you can drag the **prepare_conda_environment.bat** script into the PowerShell window and press **enter** to run the script. \n",
    "\n",
    "### Backup scenario if batch file execution is not allowed \n",
    "\n",
    "If your OS controls won't allow the execution of **\\*.bat** files, then for an alternate installation option try dragging the Windows PowerShell<span>&#8482;</span> script **prepare_conda_environment.ps1** into the **Anaconda Powershell** window and pressing enter to run the script. Then once installation is complete you can drag **start_lab_environment.ps1** to the **Anaconda Powershell** window to start the lab environment."
   ]
  },
  {
   "cell_type": "markdown",
   "metadata": {},
   "source": [
    "## Successful installation?\n",
    "\n",
    "Success means that when you run **start_lab_environment.bat** or **start_lab_environment.ps1** a web browser opens to the Jupyterlab interface."
   ]
  },
  {
   "cell_type": "markdown",
   "metadata": {},
   "source": [
    "## Uninstallation\n",
    "\n",
    "You can uninstall the \"pelagos\" Anaconda virtual environment by either double-clicking on the **remove_conda_environment.bat** file directly, or starting **Anaconda Powershell Prompt** and dragging the Powershell script **remove_conda_environment.ps1** into the window and pressing **enter**. Note that this will not remove Anaconda entirely. It will only remove the \"pelagos\" Anaconda virtual environment that we made for the course."
   ]
  },
  {
   "cell_type": "markdown",
   "metadata": {},
   "source": [
    "<address>\n",
    "&copy; 2021 Pelagos Consulting and Education<br>\n",
    "email: <a href=\"mailto:info@pelagos-consulting.com\">info@pelagos-consulting.com</a><br>\n",
    "Visit us at: <a href=\"https://www.pelagos-consulting.com\">www.pelagos-consulting.com</a><br>\n",
    "All other trademarks are the property of their respective owners. <br>\n",
    "</address>"
   ]
  }
 ],
 "metadata": {
  "kernelspec": {
   "display_name": "Python 3 (ipykernel)",
   "language": "python",
   "name": "python3"
  },
  "language_info": {
   "codemirror_mode": {
    "name": "ipython",
    "version": 3
   },
   "file_extension": ".py",
   "mimetype": "text/x-python",
   "name": "python",
   "nbconvert_exporter": "python",
   "pygments_lexer": "ipython3",
   "version": "3.9.7"
  }
 },
 "nbformat": 4,
 "nbformat_minor": 4
}
